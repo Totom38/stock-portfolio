{
 "cells": [
  {
   "cell_type": "markdown",
   "id": "b2e192dc",
   "metadata": {},
   "source": [
    "# Librairies"
   ]
  },
  {
   "cell_type": "code",
   "execution_count": null,
   "id": "fb3e8c07",
   "metadata": {},
   "outputs": [],
   "source": [
    "from plotly.graph_objects import Figure, Scatter\n",
    "from plotly.subplots import make_subplots\n",
    "from scipy.stats import norm\n",
    "from math import log, sqrt, exp\n",
    "from numpy import linspace\n",
    "# https://options-visualizer-kilian-voillaume.streamlit.app/"
   ]
  },
  {
   "cell_type": "markdown",
   "id": "b20b16a4",
   "metadata": {},
   "source": [
    "# Fonctions"
   ]
  },
  {
   "cell_type": "code",
   "execution_count": 75,
   "id": "7cdd6570",
   "metadata": {},
   "outputs": [],
   "source": [
    "def pricer(type:str, S0:float, K:float, T:float, r:float, σ:float, q:float) -> float:\n",
    "    if type not in ['call', 'put']:\n",
    "        raise ValueError('Wrong type of option')\n",
    "    else:\n",
    "        if T <= 0:\n",
    "            return max(S0 - K, 0) if type == 'call' else max(K - S0, 0)\n",
    "        else:\n",
    "            d1 = (log(S0/K) + (r - q + σ**2/2) * T) / (σ * sqrt(T))\n",
    "            if type == 'call':\n",
    "                return S0 * norm.cdf(d1) - K * exp((q - r) * T) * norm.cdf(d1 - σ * sqrt(T))\n",
    "            else:\n",
    "                return -S0 * norm.cdf(-d1) + K * exp((q - r) * T) * norm.cdf(σ * sqrt(T) - d1)\n",
    "        \n",
    "def payoff(type:str, S:float, K:float) -> float:\n",
    "    if type == 'call':\n",
    "        return(max(S - K, 0))\n",
    "    else:\n",
    "        return(max(K - S, 0))"
   ]
  },
  {
   "cell_type": "markdown",
   "id": "160b096a",
   "metadata": {},
   "source": [
    "# Variables"
   ]
  },
  {
   "cell_type": "markdown",
   "id": "a9a3de93",
   "metadata": {},
   "source": [
    "Variables d'options"
   ]
  },
  {
   "cell_type": "code",
   "execution_count": 76,
   "id": "f0ba0542",
   "metadata": {},
   "outputs": [],
   "source": [
    "type = 'call'\n",
    "S0 = 90\n",
    "K = 100\n",
    "T = 1\n",
    "r = 0.05\n",
    "σ = 0.3\n",
    "q = 0"
   ]
  },
  {
   "cell_type": "markdown",
   "id": "dbd782e0",
   "metadata": {},
   "source": [
    "Variables de simulation"
   ]
  },
  {
   "cell_type": "code",
   "execution_count": 77,
   "id": "17db84fa",
   "metadata": {},
   "outputs": [],
   "source": [
    "n = 100 # Nombre de points\n",
    "x = 0.5 # Graphiques affiché à ± x % de la valeur cible"
   ]
  },
  {
   "cell_type": "markdown",
   "id": "068980a4",
   "metadata": {},
   "source": [
    "Variables d'affichage"
   ]
  },
  {
   "cell_type": "code",
   "execution_count": 78,
   "id": "aef55861",
   "metadata": {},
   "outputs": [],
   "source": [
    "colors = ['#EF553B', \"#412DB4\", \"#1D9230\", \"#BB2F91\"]"
   ]
  },
  {
   "cell_type": "markdown",
   "id": "747e7440",
   "metadata": {},
   "source": [
    "# Code"
   ]
  },
  {
   "cell_type": "code",
   "execution_count": 79,
   "id": "9a017948",
   "metadata": {},
   "outputs": [
    {
     "data": {
      "application/vnd.plotly.v1+json": {
       "config": {
        "plotlyServerURL": "https://plot.ly"
       },
       "data": [
        {
         "line": {
          "color": "#EF553B"
         },
         "mode": "lines",
         "name": "Option Price",
         "type": "scatter",
         "x": {
          "bdata": "AAAAAACARkB00UUXXfRGQOmiiy66aEdAXXTRRRfdR0DRRRdddFFIQEYXXXTRxUhAuuiiiy46SUAuuuiii65JQKOLLrroIkpAF1100UWXSkCMLrroogtLQAAAAAAAgEtAdNFFF130S0DpoosuumhMQF100UUX3UxA0kUXXXRRTUBGF1100cVNQLrooosuOk5ALrrooouuTkCjiy666CJPQBdddNFFl09ARhdddNEFUEAAAAAAAEBQQLrooosuelBAdNFFF120UEAuuuiii+5QQOmiiy66KFFAo4suuuhiUUBddNFFF51RQBdddNFF11FA0kUXXXQRUkCMLrrooktSQEYXXXTRhVJAAAAAAADAUkC66KKLLvpSQHTRRRddNFNALrroootuU0DooosuuqhTQKOLLrro4lNAXXTRRRcdVEAXXXTRRVdUQNJFF110kVRAjC666KLLVEBGF1100QVVQAAAAAAAQFVAuuiiiy56VUB00UUXXbRVQC666KKL7lVA6KKLLrooVkCjiy666GJWQF100UUXnVZAF1100UXXVkDSRRdddBFXQIwuuuiiS1dARhdddNGFV0AAAAAAAMBXQLrooosu+ldAdNFFF100WEAuuuiii25YQOiiiy66qFhAo4suuujiWEBddNFFFx1ZQBdddNFFV1lA0kUXXXSRWUCMLrroostZQEYXXXTRBVpAAAAAAABAWkC66KKLLnpaQHTRRRddtFpALrrooovuWkDooosuuihbQKOLLrroYltAXXTRRRedW0AXXXTRRddbQNFFF110EVxAiy666KJLXEBGF1100YVcQAAAAAAAwFxAuuiiiy76XEB00UUXXTRdQC666KKLbl1A6aKLLrqoXUCjiy666OJdQF100UUXHV5AF1100UVXXkDRRRdddJFeQIsuuuiiy15ARhdddNEFX0AAAAAAAEBfQLrooosuel9AdNFFF120X0Auuuiii+5fQHTRRRddFGBA0kUXXXQxYEAuuuiii05gQIwuuuiia2BA6KKLLrqIYEBGF1100aVgQKOLLrrowmBAAAAAAADgYEA=",
          "dtype": "f8"
         },
         "y": [
          0.03957527109845599,
          0.049040930157788376,
          0.06029422341066659,
          0.07357734512264114,
          0.08915017952678084,
          0.10728977132988726,
          0.1282896065255552,
          0.15245871239565378,
          0.18012058842821776,
          0.21161198233355716,
          0.24728152737364617,
          0.28748825881920004,
          0.3326000285141717,
          0.38299183727013375,
          0.439044105154057,
          0.5011408997011819,
          0.5696681417145353,
          0.6450118076427582,
          0.7275561465998202,
          0.8176819289455937,
          0.9157647420279549,
          1.0221733472354453,
          1.1372681109635838,
          1.261399520494363,
          1.394906794159132,
          1.538116593531031,
          1.6913418437994512,
          1.8548806669371682,
          2.029015430801641,
          2.2140119159271183,
          2.410118600479313,
          2.6175660626634816,
          2.836566498810029,
          3.067313354408345,
          3.3099810645235372,
          3.564724899308242,
          3.831680909712542,
          4.1109659679929145,
          4.402677897221999,
          4.706895683698818,
          5.02367976594611,
          5.353072393851651,
          5.695098051455609,
          6.049763936898756,
          6.4170604931194255,
          6.7969619830127,
          7.189427102936627,
          7.594399628660085,
          8.01180908808933,
          8.441571455378273,
          8.883589861316707,
          9.337755315194677,
          9.803947433656042,
          10.28203517237526,
          10.771877556715516,
          11.273324407848385,
          11.786217061135318,
          12.310389073883044,
          12.84566691989017,
          13.391870668495777,
          13.948814646123616,
          14.516308078584977,
          15.094155712658797,
          15.682158415709488,
          16.280113752328873,
          16.887816537200628,
          17.505059363581395,
          18.131633106974476,
          18.767327403738136,
          19.4119311045229,
          20.065232702569233,
          20.727020737022777,
          21.397084171533905,
          22.0752127485085,
          22.76119731946349,
          23.454830152016093,
          24.155905214102347,
          24.864218436074864,
          25.579567951377427,
          26.3017543165315,
          27.030580711200102,
          27.76585311911849,
          28.507380490695923,
          29.254974888106446,
          30.008451613688436,
          30.76762932247611,
          31.532330119681134,
          32.302379643934685,
          33.07760713708974,
          33.85784550136981,
          34.6429313446326,
          35.43270501449997,
          36.22701062208344,
          37.02569605601431,
          37.82861298746187,
          38.63561686680141,
          39.446566912566425,
          40.26132609329581,
          41.07976110285912,
          41.90174232981896
         ]
        },
        {
         "line": {
          "color": "#412DB4",
          "dash": "dash"
         },
         "mode": "lines",
         "name": "Intrisic Value",
         "type": "scatter",
         "x": [
          45,
          100
         ],
         "y": [
          0,
          0
         ]
        },
        {
         "line": {
          "color": "#412DB4",
          "dash": "dash"
         },
         "mode": "lines",
         "showlegend": false,
         "type": "scatter",
         "x": [
          100,
          135
         ],
         "y": [
          0,
          35
         ]
        },
        {
         "line": {
          "color": "#1D9230",
          "dash": "dot"
         },
         "mode": "lines",
         "name": "Strike",
         "type": "scatter",
         "x": [
          100,
          100
         ],
         "y": [
          0,
          41.90174232981896
         ]
        },
        {
         "line": {
          "color": "#BB2F91",
          "dash": "dot"
         },
         "mode": "lines",
         "name": "Stock Price",
         "type": "scatter",
         "x": [
          90,
          90
         ],
         "y": [
          0,
          41.90174232981896
         ]
        }
       ],
       "layout": {
        "template": {
         "data": {
          "bar": [
           {
            "error_x": {
             "color": "#2a3f5f"
            },
            "error_y": {
             "color": "#2a3f5f"
            },
            "marker": {
             "line": {
              "color": "#E5ECF6",
              "width": 0.5
             },
             "pattern": {
              "fillmode": "overlay",
              "size": 10,
              "solidity": 0.2
             }
            },
            "type": "bar"
           }
          ],
          "barpolar": [
           {
            "marker": {
             "line": {
              "color": "#E5ECF6",
              "width": 0.5
             },
             "pattern": {
              "fillmode": "overlay",
              "size": 10,
              "solidity": 0.2
             }
            },
            "type": "barpolar"
           }
          ],
          "carpet": [
           {
            "aaxis": {
             "endlinecolor": "#2a3f5f",
             "gridcolor": "white",
             "linecolor": "white",
             "minorgridcolor": "white",
             "startlinecolor": "#2a3f5f"
            },
            "baxis": {
             "endlinecolor": "#2a3f5f",
             "gridcolor": "white",
             "linecolor": "white",
             "minorgridcolor": "white",
             "startlinecolor": "#2a3f5f"
            },
            "type": "carpet"
           }
          ],
          "choropleth": [
           {
            "colorbar": {
             "outlinewidth": 0,
             "ticks": ""
            },
            "type": "choropleth"
           }
          ],
          "contour": [
           {
            "colorbar": {
             "outlinewidth": 0,
             "ticks": ""
            },
            "colorscale": [
             [
              0,
              "#0d0887"
             ],
             [
              0.1111111111111111,
              "#46039f"
             ],
             [
              0.2222222222222222,
              "#7201a8"
             ],
             [
              0.3333333333333333,
              "#9c179e"
             ],
             [
              0.4444444444444444,
              "#bd3786"
             ],
             [
              0.5555555555555556,
              "#d8576b"
             ],
             [
              0.6666666666666666,
              "#ed7953"
             ],
             [
              0.7777777777777778,
              "#fb9f3a"
             ],
             [
              0.8888888888888888,
              "#fdca26"
             ],
             [
              1,
              "#f0f921"
             ]
            ],
            "type": "contour"
           }
          ],
          "contourcarpet": [
           {
            "colorbar": {
             "outlinewidth": 0,
             "ticks": ""
            },
            "type": "contourcarpet"
           }
          ],
          "heatmap": [
           {
            "colorbar": {
             "outlinewidth": 0,
             "ticks": ""
            },
            "colorscale": [
             [
              0,
              "#0d0887"
             ],
             [
              0.1111111111111111,
              "#46039f"
             ],
             [
              0.2222222222222222,
              "#7201a8"
             ],
             [
              0.3333333333333333,
              "#9c179e"
             ],
             [
              0.4444444444444444,
              "#bd3786"
             ],
             [
              0.5555555555555556,
              "#d8576b"
             ],
             [
              0.6666666666666666,
              "#ed7953"
             ],
             [
              0.7777777777777778,
              "#fb9f3a"
             ],
             [
              0.8888888888888888,
              "#fdca26"
             ],
             [
              1,
              "#f0f921"
             ]
            ],
            "type": "heatmap"
           }
          ],
          "histogram": [
           {
            "marker": {
             "pattern": {
              "fillmode": "overlay",
              "size": 10,
              "solidity": 0.2
             }
            },
            "type": "histogram"
           }
          ],
          "histogram2d": [
           {
            "colorbar": {
             "outlinewidth": 0,
             "ticks": ""
            },
            "colorscale": [
             [
              0,
              "#0d0887"
             ],
             [
              0.1111111111111111,
              "#46039f"
             ],
             [
              0.2222222222222222,
              "#7201a8"
             ],
             [
              0.3333333333333333,
              "#9c179e"
             ],
             [
              0.4444444444444444,
              "#bd3786"
             ],
             [
              0.5555555555555556,
              "#d8576b"
             ],
             [
              0.6666666666666666,
              "#ed7953"
             ],
             [
              0.7777777777777778,
              "#fb9f3a"
             ],
             [
              0.8888888888888888,
              "#fdca26"
             ],
             [
              1,
              "#f0f921"
             ]
            ],
            "type": "histogram2d"
           }
          ],
          "histogram2dcontour": [
           {
            "colorbar": {
             "outlinewidth": 0,
             "ticks": ""
            },
            "colorscale": [
             [
              0,
              "#0d0887"
             ],
             [
              0.1111111111111111,
              "#46039f"
             ],
             [
              0.2222222222222222,
              "#7201a8"
             ],
             [
              0.3333333333333333,
              "#9c179e"
             ],
             [
              0.4444444444444444,
              "#bd3786"
             ],
             [
              0.5555555555555556,
              "#d8576b"
             ],
             [
              0.6666666666666666,
              "#ed7953"
             ],
             [
              0.7777777777777778,
              "#fb9f3a"
             ],
             [
              0.8888888888888888,
              "#fdca26"
             ],
             [
              1,
              "#f0f921"
             ]
            ],
            "type": "histogram2dcontour"
           }
          ],
          "mesh3d": [
           {
            "colorbar": {
             "outlinewidth": 0,
             "ticks": ""
            },
            "type": "mesh3d"
           }
          ],
          "parcoords": [
           {
            "line": {
             "colorbar": {
              "outlinewidth": 0,
              "ticks": ""
             }
            },
            "type": "parcoords"
           }
          ],
          "pie": [
           {
            "automargin": true,
            "type": "pie"
           }
          ],
          "scatter": [
           {
            "fillpattern": {
             "fillmode": "overlay",
             "size": 10,
             "solidity": 0.2
            },
            "type": "scatter"
           }
          ],
          "scatter3d": [
           {
            "line": {
             "colorbar": {
              "outlinewidth": 0,
              "ticks": ""
             }
            },
            "marker": {
             "colorbar": {
              "outlinewidth": 0,
              "ticks": ""
             }
            },
            "type": "scatter3d"
           }
          ],
          "scattercarpet": [
           {
            "marker": {
             "colorbar": {
              "outlinewidth": 0,
              "ticks": ""
             }
            },
            "type": "scattercarpet"
           }
          ],
          "scattergeo": [
           {
            "marker": {
             "colorbar": {
              "outlinewidth": 0,
              "ticks": ""
             }
            },
            "type": "scattergeo"
           }
          ],
          "scattergl": [
           {
            "marker": {
             "colorbar": {
              "outlinewidth": 0,
              "ticks": ""
             }
            },
            "type": "scattergl"
           }
          ],
          "scattermap": [
           {
            "marker": {
             "colorbar": {
              "outlinewidth": 0,
              "ticks": ""
             }
            },
            "type": "scattermap"
           }
          ],
          "scattermapbox": [
           {
            "marker": {
             "colorbar": {
              "outlinewidth": 0,
              "ticks": ""
             }
            },
            "type": "scattermapbox"
           }
          ],
          "scatterpolar": [
           {
            "marker": {
             "colorbar": {
              "outlinewidth": 0,
              "ticks": ""
             }
            },
            "type": "scatterpolar"
           }
          ],
          "scatterpolargl": [
           {
            "marker": {
             "colorbar": {
              "outlinewidth": 0,
              "ticks": ""
             }
            },
            "type": "scatterpolargl"
           }
          ],
          "scatterternary": [
           {
            "marker": {
             "colorbar": {
              "outlinewidth": 0,
              "ticks": ""
             }
            },
            "type": "scatterternary"
           }
          ],
          "surface": [
           {
            "colorbar": {
             "outlinewidth": 0,
             "ticks": ""
            },
            "colorscale": [
             [
              0,
              "#0d0887"
             ],
             [
              0.1111111111111111,
              "#46039f"
             ],
             [
              0.2222222222222222,
              "#7201a8"
             ],
             [
              0.3333333333333333,
              "#9c179e"
             ],
             [
              0.4444444444444444,
              "#bd3786"
             ],
             [
              0.5555555555555556,
              "#d8576b"
             ],
             [
              0.6666666666666666,
              "#ed7953"
             ],
             [
              0.7777777777777778,
              "#fb9f3a"
             ],
             [
              0.8888888888888888,
              "#fdca26"
             ],
             [
              1,
              "#f0f921"
             ]
            ],
            "type": "surface"
           }
          ],
          "table": [
           {
            "cells": {
             "fill": {
              "color": "#EBF0F8"
             },
             "line": {
              "color": "white"
             }
            },
            "header": {
             "fill": {
              "color": "#C8D4E3"
             },
             "line": {
              "color": "white"
             }
            },
            "type": "table"
           }
          ]
         },
         "layout": {
          "annotationdefaults": {
           "arrowcolor": "#2a3f5f",
           "arrowhead": 0,
           "arrowwidth": 1
          },
          "autotypenumbers": "strict",
          "coloraxis": {
           "colorbar": {
            "outlinewidth": 0,
            "ticks": ""
           }
          },
          "colorscale": {
           "diverging": [
            [
             0,
             "#8e0152"
            ],
            [
             0.1,
             "#c51b7d"
            ],
            [
             0.2,
             "#de77ae"
            ],
            [
             0.3,
             "#f1b6da"
            ],
            [
             0.4,
             "#fde0ef"
            ],
            [
             0.5,
             "#f7f7f7"
            ],
            [
             0.6,
             "#e6f5d0"
            ],
            [
             0.7,
             "#b8e186"
            ],
            [
             0.8,
             "#7fbc41"
            ],
            [
             0.9,
             "#4d9221"
            ],
            [
             1,
             "#276419"
            ]
           ],
           "sequential": [
            [
             0,
             "#0d0887"
            ],
            [
             0.1111111111111111,
             "#46039f"
            ],
            [
             0.2222222222222222,
             "#7201a8"
            ],
            [
             0.3333333333333333,
             "#9c179e"
            ],
            [
             0.4444444444444444,
             "#bd3786"
            ],
            [
             0.5555555555555556,
             "#d8576b"
            ],
            [
             0.6666666666666666,
             "#ed7953"
            ],
            [
             0.7777777777777778,
             "#fb9f3a"
            ],
            [
             0.8888888888888888,
             "#fdca26"
            ],
            [
             1,
             "#f0f921"
            ]
           ],
           "sequentialminus": [
            [
             0,
             "#0d0887"
            ],
            [
             0.1111111111111111,
             "#46039f"
            ],
            [
             0.2222222222222222,
             "#7201a8"
            ],
            [
             0.3333333333333333,
             "#9c179e"
            ],
            [
             0.4444444444444444,
             "#bd3786"
            ],
            [
             0.5555555555555556,
             "#d8576b"
            ],
            [
             0.6666666666666666,
             "#ed7953"
            ],
            [
             0.7777777777777778,
             "#fb9f3a"
            ],
            [
             0.8888888888888888,
             "#fdca26"
            ],
            [
             1,
             "#f0f921"
            ]
           ]
          },
          "colorway": [
           "#636efa",
           "#EF553B",
           "#00cc96",
           "#ab63fa",
           "#FFA15A",
           "#19d3f3",
           "#FF6692",
           "#B6E880",
           "#FF97FF",
           "#FECB52"
          ],
          "font": {
           "color": "#2a3f5f"
          },
          "geo": {
           "bgcolor": "white",
           "lakecolor": "white",
           "landcolor": "#E5ECF6",
           "showlakes": true,
           "showland": true,
           "subunitcolor": "white"
          },
          "hoverlabel": {
           "align": "left"
          },
          "hovermode": "closest",
          "mapbox": {
           "style": "light"
          },
          "paper_bgcolor": "white",
          "plot_bgcolor": "#E5ECF6",
          "polar": {
           "angularaxis": {
            "gridcolor": "white",
            "linecolor": "white",
            "ticks": ""
           },
           "bgcolor": "#E5ECF6",
           "radialaxis": {
            "gridcolor": "white",
            "linecolor": "white",
            "ticks": ""
           }
          },
          "scene": {
           "xaxis": {
            "backgroundcolor": "#E5ECF6",
            "gridcolor": "white",
            "gridwidth": 2,
            "linecolor": "white",
            "showbackground": true,
            "ticks": "",
            "zerolinecolor": "white"
           },
           "yaxis": {
            "backgroundcolor": "#E5ECF6",
            "gridcolor": "white",
            "gridwidth": 2,
            "linecolor": "white",
            "showbackground": true,
            "ticks": "",
            "zerolinecolor": "white"
           },
           "zaxis": {
            "backgroundcolor": "#E5ECF6",
            "gridcolor": "white",
            "gridwidth": 2,
            "linecolor": "white",
            "showbackground": true,
            "ticks": "",
            "zerolinecolor": "white"
           }
          },
          "shapedefaults": {
           "line": {
            "color": "#2a3f5f"
           }
          },
          "ternary": {
           "aaxis": {
            "gridcolor": "white",
            "linecolor": "white",
            "ticks": ""
           },
           "baxis": {
            "gridcolor": "white",
            "linecolor": "white",
            "ticks": ""
           },
           "bgcolor": "#E5ECF6",
           "caxis": {
            "gridcolor": "white",
            "linecolor": "white",
            "ticks": ""
           }
          },
          "title": {
           "x": 0.05
          },
          "xaxis": {
           "automargin": true,
           "gridcolor": "white",
           "linecolor": "white",
           "ticks": "",
           "title": {
            "standoff": 15
           },
           "zerolinecolor": "white",
           "zerolinewidth": 2
          },
          "yaxis": {
           "automargin": true,
           "gridcolor": "white",
           "linecolor": "white",
           "ticks": "",
           "title": {
            "standoff": 15
           },
           "zerolinecolor": "white",
           "zerolinewidth": 2
          }
         }
        }
       }
      }
     },
     "metadata": {},
     "output_type": "display_data"
    }
   ],
   "source": [
    "fig0 = Figure()\n",
    "X0 = linspace(S0*(1-x), S0*(1+x), n)\n",
    "Y0 = [pricer(type, S, K, T, r, σ, q) for S in X0]\n",
    "fig0.add_trace(Scatter(x=X0, y=Y0, mode='lines', line=dict(color=colors[0]), name='Option Price'))\n",
    "fig0.add_trace(Scatter(x=[min(X0),K], y=[payoff(type, min(X0), K),0], mode='lines', line=dict(color=colors[1], dash='dash'), name='Intrisic Value'))\n",
    "fig0.add_trace(Scatter(x=[K, max(X0)], y=[0,payoff(type, max(X0), K)], mode='lines', line=dict(color=colors[1], dash='dash'), showlegend=False))\n",
    "fig0.add_trace(Scatter(x=[K, K], y=[0, max(Y0)], mode='lines', line=dict(color=colors[2], dash='dot'), name='Strike'))\n",
    "fig0.add_trace(Scatter(x=[S0, S0], y=[0, max(Y0)], mode='lines', line=dict(color=colors[3], dash='dot'), name='Stock Price'))\n",
    "fig0.show()"
   ]
  }
 ],
 "metadata": {
  "kernelspec": {
   "display_name": "Python 3",
   "language": "python",
   "name": "python3"
  },
  "language_info": {
   "codemirror_mode": {
    "name": "ipython",
    "version": 3
   },
   "file_extension": ".py",
   "mimetype": "text/x-python",
   "name": "python",
   "nbconvert_exporter": "python",
   "pygments_lexer": "ipython3",
   "version": "3.13.0"
  }
 },
 "nbformat": 4,
 "nbformat_minor": 5
}
